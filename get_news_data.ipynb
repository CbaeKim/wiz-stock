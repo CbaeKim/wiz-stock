{
 "cells": [
  {
   "cell_type": "markdown",
   "id": "158ef733",
   "metadata": {},
   "source": [
    "# **라이브러리 정의**"
   ]
  },
  {
   "cell_type": "code",
   "execution_count": 1,
   "id": "db2f88df",
   "metadata": {},
   "outputs": [],
   "source": [
    "# 뉴스 데이터 크롤링\n",
    "import os, sys, datetime, time, json, urllib.request, urllib.parse"
   ]
  },
  {
   "cell_type": "markdown",
   "id": "1910bc87",
   "metadata": {},
   "source": [
    "# **API KEY 설정**"
   ]
  },
  {
   "cell_type": "code",
   "execution_count": 2,
   "id": "4bdb2687",
   "metadata": {},
   "outputs": [],
   "source": [
    "# Naver Developer API Configuration\n",
    "client_id = ''\n",
    "client_secret = ''"
   ]
  },
  {
   "cell_type": "markdown",
   "id": "14f66677",
   "metadata": {},
   "source": [
    "# **함수 정의**"
   ]
  },
  {
   "cell_type": "code",
   "execution_count": null,
   "id": "938fa227",
   "metadata": {},
   "outputs": [],
   "source": [
    "def getRequestUrl(url):\n",
    "    \"\"\" 1. GET Requests -> 2. GET Response \"\"\"\n",
    "    req = urllib.request.Request(url)\n",
    "\n",
    "    # HTTP 헤더에 클라이언트 ID와 Secret 추가\n",
    "    req.add_header(\"X-Naver-Client-Id\", client_id)\n",
    "    req.add_header(\"X-Naver-Client-Secret\", client_secret)\n",
    "\n",
    "    try:\n",
    "        # URL Open -> 응답값 반환\n",
    "        response = urllib.request.urlopen(req)\n",
    "        if response.getcode() == 200:\n",
    "            print(f\"[{datetime.datetime.now()}]Url Request Success\")\n",
    "            return response.read().decode('utf-8')\n",
    "    # 예외 처리\n",
    "    except Exception as e :\n",
    "        print(e)\n",
    "        print(f\"[{datetime.datetime.now()}] Error for URL : {url}\")\n",
    "        return None"
   ]
  },
  {
   "cell_type": "code",
   "execution_count": 4,
   "id": "d73e3e7e",
   "metadata": {},
   "outputs": [],
   "source": [
    "def getNaverSearch(node, srcText, start, display):\n",
    "    \"\"\" 네이버 검색 API을 통하여 검색 후 검색 결과 반환 \"\"\"\n",
    "\n",
    "    # URL 파라미터값 정의\n",
    "    base = \"https://openapi.naver.com/v1/search\"\n",
    "    node = f\"/{node}.json\"\n",
    "    parameters = f\"?query={urllib.parse.quote(srcText)}&start={start}&display={display}\"\n",
    "\n",
    "    # 최종 URL 산출\n",
    "    url = base + node + parameters\n",
    "\n",
    "    # URL Request -> return: Response\n",
    "    responseDecode = getRequestUrl(url)\n",
    "\n",
    "    if(responseDecode == None):\n",
    "        return None\n",
    "    else:\n",
    "        # return : json -> dictionary\n",
    "        return json.loads(responseDecode)"
   ]
  },
  {
   "cell_type": "code",
   "execution_count": null,
   "id": "30077dfd",
   "metadata": {},
   "outputs": [],
   "source": [
    "# 검색 결과에서 필요한 데이터를 추출하여 JSON 결과 리스트에 추가하는 함수 (Function to extract necessary data from search results and add to JSON result list)\n",
    "def getPostData(post, jsonResult, cnt):\n",
    "    \"\"\" 검색 결과 추출 -> JSON 결과 리스트에 추가 \"\"\"\n",
    "    title = post['title']\n",
    "    description = post['description']\n",
    "    org_link = post['originallink']\n",
    "    # link = post['link']\n",
    "\n",
    "    # 발행일 전처리\n",
    "    pDate = datetime.datetime.strptime(post['pubDate'], '%a, %d %b %Y %H:%M:%S +0900')\n",
    "    pDate = pDate.strftime('%Y-%m-%d %H:%M:%S')\n",
    "\n",
    "    # 추출된 데이터를 딕셔너리 형태로 jsonResult 리스트에 추가 (Add extracted data as a dictionary to jsonResult list)\n",
    "    jsonResult.append(\n",
    "        {\n",
    "            'cnt':cnt,\n",
    "            'title':title,\n",
    "            'description':description,\n",
    "            'org_link':org_link,\n",
    "            'link':org_link,\n",
    "            'pDate':pDate\n",
    "        }\n",
    "    )"
   ]
  },
  {
   "cell_type": "code",
   "execution_count": null,
   "id": "8ec58fdc",
   "metadata": {},
   "outputs": [],
   "source": [
    "def main(input_text):\n",
    "    # 뉴스 검색어 파라미터값 정의\n",
    "    srcText = input_text    # 검색어\n",
    "    node = 'news'           # API 검색 카테고리\n",
    "    cnt = 0                 # 검색 데이터 수량\n",
    "    jsonResult = []         # 검색 데이터가 담길 리스트\n",
    "\n",
    "    # 최초 검색 사이클 실행 : 1 ~ 100개(max) 데이터 로드 **\n",
    "    jsonResponse = getNaverSearch(node, srcText, 1, 100)\n",
    "\n",
    "    # 전체 검색 결과 수량\n",
    "    total = jsonResponse['total']\n",
    "\n",
    "    # 무한 루프 : 검색한 뉴스 데이터를 모두 수집\n",
    "    while((jsonResponse != None) and (jsonResponse['display'] != 0)):\n",
    "        # 한 검색 사이클 -> 1 ~ 100개 데이터를 리스트에 append\n",
    "        for post in jsonResponse['items']:\n",
    "            cnt += 1\n",
    "            getPostData(post, jsonResult, cnt)\n",
    "\n",
    "        # 다음 검색 사이클 실행 위치 정의\n",
    "        start = jsonResponse['start'] + jsonResponse['display']\n",
    "\n",
    "        # 다음 검색 사이클 실행\n",
    "        jsonResponse = getNaverSearch(node, srcText, start, 100)\n",
    "\n",
    "    print(f'전체 검색 : {total} 건') # 전체 검색 결과 수 출력 (Print total number of search results)\n",
    "\n",
    "    # 결과를 JSON 파일로 저장 (Save results to a JSON file)\n",
    "    with open(f'{srcText}_naver_{node}.json', 'w', encoding='utf8') as outfile:\n",
    "        # JSON 데이터 Formatting\n",
    "        jsonFile = json.dumps(jsonResult, indent=4, sort_keys = True, ensure_ascii = False)\n",
    "        outfile.write(jsonFile)\n",
    "\n",
    "    print(\"가져온 데이터 : %d 건\" %(cnt))\n",
    "    print('%s_naver_%s.json SAVED' % (srcText, node))"
   ]
  }
 ],
 "metadata": {
  "kernelspec": {
   "display_name": "kdt",
   "language": "python",
   "name": "python3"
  },
  "language_info": {
   "codemirror_mode": {
    "name": "ipython",
    "version": 3
   },
   "file_extension": ".py",
   "mimetype": "text/x-python",
   "name": "python",
   "nbconvert_exporter": "python",
   "pygments_lexer": "ipython3",
   "version": "3.11.13"
  }
 },
 "nbformat": 4,
 "nbformat_minor": 5
}
