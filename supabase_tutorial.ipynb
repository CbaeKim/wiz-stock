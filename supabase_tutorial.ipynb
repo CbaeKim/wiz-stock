{
 "cells": [
  {
   "cell_type": "markdown",
   "id": "adf7f9f5",
   "metadata": {},
   "source": [
    "# **라이브러리 정의**"
   ]
  },
  {
   "cell_type": "markdown",
   "id": "4bfd236d",
   "metadata": {},
   "source": [
    "# **라이브러리 정의**"
   ]
  },
  {
   "cell_type": "code",
   "execution_count": 1,
   "id": "10b228a3",
   "metadata": {},
   "outputs": [],
   "source": [
    "import os\n",
    "import pandas as pd\n",
    "from supabase import create_client, Client"
   ]
  },
  {
   "cell_type": "markdown",
   "id": "1031b50c",
   "metadata": {},
   "source": [
    "# **사용자 정보 초기화**"
   ]
  },
  {
   "cell_type": "code",
   "execution_count": 2,
   "id": "fe4c5348",
   "metadata": {},
   "outputs": [
    {
     "name": "stdout",
     "output_type": "stream",
     "text": [
      "Supabase 클라이언트 연결 완료.\n"
     ]
    }
   ],
   "source": [
    "# 엔드포인트 URL 및 API 키 설정\n",
    "SUPABASE_URL = 'https://yhayrbotkkuuvoxzhqct.supabase.co'\n",
    "SUPABASE_KEY = 'sb_secret_5rUltxbkuiB3wFcTyMs1qw_cJHFo3kf'\n",
    "\n",
    "# 클라이언트 연결\n",
    "try:\n",
    "    supabase: Client = create_client(SUPABASE_URL, SUPABASE_KEY)\n",
    "    print(\"Supabase 클라이언트 연결 완료.\")\n",
    "except Exception as e:\n",
    "    print(f\"Supabase 클라이언트 연결 실패: {e}\")\n",
    "\n",
    "def validation(response):\n",
    "    if response.data:\n",
    "        print(\"데이터베이스 적용 완료\")\n",
    "    else:\n",
    "        print(\"코드를 재확인해주세요.\")"
   ]
  },
  {
   "cell_type": "markdown",
   "id": "ee5bf298",
   "metadata": {},
   "source": [
    "# **기본 문법**\n",
    ": 모든 쿼리 로직 정의 이후 최종적으로 결과물을 얻으려면 아래 메서드를 이어붙여야함\n",
    "- .execute().data"
   ]
  },
  {
   "cell_type": "markdown",
   "id": "6c5d7833",
   "metadata": {},
   "source": [
    "## **테이블 및 컬럼 선택**"
   ]
  },
  {
   "cell_type": "code",
   "execution_count": 3,
   "id": "7b8a8506",
   "metadata": {},
   "outputs": [],
   "source": [
    "# Query : select * from quiz\n",
    "\n",
    "# 1. 테이블 선택 (from)\n",
    "select_table = supabase.from_('quiz')\n",
    "\n",
    "# 2. 컬럼 선택 (select)\n",
    "select_table_column = select_table.select('*')"
   ]
  },
  {
   "cell_type": "markdown",
   "id": "d48cde1f",
   "metadata": {},
   "source": [
    "## **특정 값 필터 : 단수**"
   ]
  },
  {
   "cell_type": "code",
   "execution_count": 4,
   "id": "06a1c96d",
   "metadata": {},
   "outputs": [
    {
     "data": {
      "text/html": [
       "<div>\n",
       "<style scoped>\n",
       "    .dataframe tbody tr th:only-of-type {\n",
       "        vertical-align: middle;\n",
       "    }\n",
       "\n",
       "    .dataframe tbody tr th {\n",
       "        vertical-align: top;\n",
       "    }\n",
       "\n",
       "    .dataframe thead th {\n",
       "        text-align: right;\n",
       "    }\n",
       "</style>\n",
       "<table border=\"1\" class=\"dataframe\">\n",
       "  <thead>\n",
       "    <tr style=\"text-align: right;\">\n",
       "      <th></th>\n",
       "      <th>category</th>\n",
       "      <th>sub_category</th>\n",
       "      <th>question</th>\n",
       "      <th>answer</th>\n",
       "      <th>explanation</th>\n",
       "    </tr>\n",
       "  </thead>\n",
       "  <tbody>\n",
       "    <tr>\n",
       "      <th>0</th>\n",
       "      <td>Basic</td>\n",
       "      <td>배당금</td>\n",
       "      <td>배당수익률은 배당금을 주가로 나눈 비율이다.</td>\n",
       "      <td>O</td>\n",
       "      <td>배당수익률 = 주당 배당금 / 주가 × 100</td>\n",
       "    </tr>\n",
       "    <tr>\n",
       "      <th>1</th>\n",
       "      <td>Basic</td>\n",
       "      <td>주식</td>\n",
       "      <td>주식은 은행에서만 거래할 수 있다.</td>\n",
       "      <td>X</td>\n",
       "      <td>주식은 증권사를 통해 거래하며, 은행은 주식 거래 서비스를 제공하지 않는다.</td>\n",
       "    </tr>\n",
       "  </tbody>\n",
       "</table>\n",
       "</div>"
      ],
      "text/plain": [
       "  category sub_category                  question answer  \\\n",
       "0    Basic          배당금  배당수익률은 배당금을 주가로 나눈 비율이다.      O   \n",
       "1    Basic           주식       주식은 은행에서만 거래할 수 있다.      X   \n",
       "\n",
       "                                  explanation  \n",
       "0                   배당수익률 = 주당 배당금 / 주가 × 100  \n",
       "1  주식은 증권사를 통해 거래하며, 은행은 주식 거래 서비스를 제공하지 않는다.  "
      ]
     },
     "execution_count": 4,
     "metadata": {},
     "output_type": "execute_result"
    }
   ],
   "source": [
    "# 3-1. 특정 값 필터 (단수)\n",
    "third = select_table_column.eq('category', 'Basic')\n",
    "\n",
    "df = pd.DataFrame(third.execute().data)\n",
    "df.head(2)"
   ]
  },
  {
   "cell_type": "markdown",
   "id": "6bcc9560",
   "metadata": {},
   "source": [
    "## **특정 값 필터 : 복수 (AND)**"
   ]
  },
  {
   "cell_type": "code",
   "execution_count": 5,
   "id": "3b651223",
   "metadata": {},
   "outputs": [
    {
     "data": {
      "text/html": [
       "<div>\n",
       "<style scoped>\n",
       "    .dataframe tbody tr th:only-of-type {\n",
       "        vertical-align: middle;\n",
       "    }\n",
       "\n",
       "    .dataframe tbody tr th {\n",
       "        vertical-align: top;\n",
       "    }\n",
       "\n",
       "    .dataframe thead th {\n",
       "        text-align: right;\n",
       "    }\n",
       "</style>\n",
       "<table border=\"1\" class=\"dataframe\">\n",
       "  <thead>\n",
       "    <tr style=\"text-align: right;\">\n",
       "      <th></th>\n",
       "      <th>category</th>\n",
       "      <th>sub_category</th>\n",
       "      <th>question</th>\n",
       "      <th>answer</th>\n",
       "      <th>explanation</th>\n",
       "    </tr>\n",
       "  </thead>\n",
       "  <tbody>\n",
       "    <tr>\n",
       "      <th>0</th>\n",
       "      <td>Basic</td>\n",
       "      <td>배당금</td>\n",
       "      <td>배당수익률은 배당금을 주가로 나눈 비율이다.</td>\n",
       "      <td>O</td>\n",
       "      <td>배당수익률 = 주당 배당금 / 주가 × 100</td>\n",
       "    </tr>\n",
       "    <tr>\n",
       "      <th>1</th>\n",
       "      <td>Basic</td>\n",
       "      <td>배당금</td>\n",
       "      <td>보통주는 배당금이 정해져 있다.</td>\n",
       "      <td>X</td>\n",
       "      <td>보통주는 배당금이 정해져 있지 않고 기업 정책에 따라 달라진다.</td>\n",
       "    </tr>\n",
       "  </tbody>\n",
       "</table>\n",
       "</div>"
      ],
      "text/plain": [
       "  category sub_category                  question answer  \\\n",
       "0    Basic          배당금  배당수익률은 배당금을 주가로 나눈 비율이다.      O   \n",
       "1    Basic          배당금         보통주는 배당금이 정해져 있다.      X   \n",
       "\n",
       "                           explanation  \n",
       "0            배당수익률 = 주당 배당금 / 주가 × 100  \n",
       "1  보통주는 배당금이 정해져 있지 않고 기업 정책에 따라 달라진다.  "
      ]
     },
     "execution_count": 5,
     "metadata": {},
     "output_type": "execute_result"
    }
   ],
   "source": [
    "# 3-2. 특정 값 필터 (복수 : AND)\n",
    "third_and = select_table_column.eq('category', 'Basic').eq('sub_category', '배당금')\n",
    "\n",
    "df = pd.DataFrame(third_and.execute().data)\n",
    "df.head(2)"
   ]
  },
  {
   "cell_type": "markdown",
   "id": "51a01cf2",
   "metadata": {},
   "source": [
    "## **특정 값 필터 : 복수 (OR)**\n",
    "- 'category.eq.Basic' : category 컬럼의 값이 'Basic'\n",
    "- 'answer.eq.O' : answer 컬럼의 값이 'O'\n",
    "\n",
    "- 비교 연산자 : eq(=), neq(!=), gt(>), gte(>=), lt(<), lte(<=)"
   ]
  },
  {
   "cell_type": "code",
   "execution_count": 6,
   "id": "a5908512",
   "metadata": {},
   "outputs": [
    {
     "data": {
      "text/html": [
       "<div>\n",
       "<style scoped>\n",
       "    .dataframe tbody tr th:only-of-type {\n",
       "        vertical-align: middle;\n",
       "    }\n",
       "\n",
       "    .dataframe tbody tr th {\n",
       "        vertical-align: top;\n",
       "    }\n",
       "\n",
       "    .dataframe thead th {\n",
       "        text-align: right;\n",
       "    }\n",
       "</style>\n",
       "<table border=\"1\" class=\"dataframe\">\n",
       "  <thead>\n",
       "    <tr style=\"text-align: right;\">\n",
       "      <th></th>\n",
       "      <th>category</th>\n",
       "      <th>sub_category</th>\n",
       "      <th>question</th>\n",
       "      <th>answer</th>\n",
       "      <th>explanation</th>\n",
       "    </tr>\n",
       "  </thead>\n",
       "  <tbody>\n",
       "    <tr>\n",
       "      <th>0</th>\n",
       "      <td>Basic</td>\n",
       "      <td>배당금</td>\n",
       "      <td>배당수익률은 배당금을 주가로 나눈 비율이다.</td>\n",
       "      <td>O</td>\n",
       "      <td>배당수익률 = 주당 배당금 / 주가 × 100</td>\n",
       "    </tr>\n",
       "    <tr>\n",
       "      <th>1</th>\n",
       "      <td>Basic</td>\n",
       "      <td>배당금</td>\n",
       "      <td>보통주는 배당금이 정해져 있다.</td>\n",
       "      <td>X</td>\n",
       "      <td>보통주는 배당금이 정해져 있지 않고 기업 정책에 따라 달라진다.</td>\n",
       "    </tr>\n",
       "  </tbody>\n",
       "</table>\n",
       "</div>"
      ],
      "text/plain": [
       "  category sub_category                  question answer  \\\n",
       "0    Basic          배당금  배당수익률은 배당금을 주가로 나눈 비율이다.      O   \n",
       "1    Basic          배당금         보통주는 배당금이 정해져 있다.      X   \n",
       "\n",
       "                           explanation  \n",
       "0            배당수익률 = 주당 배당금 / 주가 × 100  \n",
       "1  보통주는 배당금이 정해져 있지 않고 기업 정책에 따라 달라진다.  "
      ]
     },
     "execution_count": 6,
     "metadata": {},
     "output_type": "execute_result"
    }
   ],
   "source": [
    "# 3-4. 특정 값 필터 (복수 : OR)\n",
    "\n",
    "# 조건 정의\n",
    "condition = 'category.eq.Basic, answer.eq.O'\n",
    "\n",
    "# .or_()\n",
    "third_or = select_table_column.or_(condition)\n",
    "\n",
    "df = pd.DataFrame(third_or.execute().data)\n",
    "\n",
    "df.head(2)"
   ]
  },
  {
   "cell_type": "markdown",
   "id": "15cfc679",
   "metadata": {},
   "source": [
    "## **정렬 : 오름차순 / 내림차순**\n",
    ": 랭킹 or 게시판 시스템에 사용하기 유용"
   ]
  },
  {
   "cell_type": "code",
   "execution_count": 7,
   "id": "f73f388f",
   "metadata": {},
   "outputs": [
    {
     "data": {
      "text/html": [
       "<div>\n",
       "<style scoped>\n",
       "    .dataframe tbody tr th:only-of-type {\n",
       "        vertical-align: middle;\n",
       "    }\n",
       "\n",
       "    .dataframe tbody tr th {\n",
       "        vertical-align: top;\n",
       "    }\n",
       "\n",
       "    .dataframe thead th {\n",
       "        text-align: right;\n",
       "    }\n",
       "</style>\n",
       "<table border=\"1\" class=\"dataframe\">\n",
       "  <thead>\n",
       "    <tr style=\"text-align: right;\">\n",
       "      <th></th>\n",
       "      <th>category</th>\n",
       "      <th>sub_category</th>\n",
       "      <th>question</th>\n",
       "      <th>answer</th>\n",
       "      <th>explanation</th>\n",
       "    </tr>\n",
       "  </thead>\n",
       "  <tbody>\n",
       "    <tr>\n",
       "      <th>0</th>\n",
       "      <td>financial</td>\n",
       "      <td>현금흐름표</td>\n",
       "      <td>현금흐름표는 기업의 자산 증가 여부를 나타낸다.</td>\n",
       "      <td>X</td>\n",
       "      <td>현금흐름표는 실제 현금 유입과 유출을 보여주는 보고서다.</td>\n",
       "    </tr>\n",
       "    <tr>\n",
       "      <th>1</th>\n",
       "      <td>financial</td>\n",
       "      <td>현금흐름표</td>\n",
       "      <td>현금흐름표는 투자자산 증가 여부를 직접적으로 나타낸다.</td>\n",
       "      <td>O</td>\n",
       "      <td>투자활동현금흐름 항목을 통해 확인 가능하다.</td>\n",
       "    </tr>\n",
       "  </tbody>\n",
       "</table>\n",
       "</div>"
      ],
      "text/plain": [
       "     category sub_category                         question answer  \\\n",
       "0  financial         현금흐름표       현금흐름표는 기업의 자산 증가 여부를 나타낸다.      X   \n",
       "1  financial         현금흐름표   현금흐름표는 투자자산 증가 여부를 직접적으로 나타낸다.      O   \n",
       "\n",
       "                        explanation  \n",
       "0   현금흐름표는 실제 현금 유입과 유출을 보여주는 보고서다.  \n",
       "1          투자활동현금흐름 항목을 통해 확인 가능하다.  "
      ]
     },
     "execution_count": 7,
     "metadata": {},
     "output_type": "execute_result"
    }
   ],
   "source": [
    "response = supabase.from_('quiz').select('*').order('sub_category', desc = True).limit(2).execute().data\n",
    "\n",
    "df = pd.DataFrame(response)\n",
    "df.head(2)"
   ]
  },
  {
   "cell_type": "markdown",
   "id": "18082bf0",
   "metadata": {},
   "source": [
    "# **행 추가**"
   ]
  },
  {
   "cell_type": "code",
   "execution_count": 8,
   "id": "ace37279",
   "metadata": {},
   "outputs": [
    {
     "name": "stdout",
     "output_type": "stream",
     "text": [
      "데이터베이스 적용 완료\n"
     ]
    }
   ],
   "source": [
    "# 행 정보 입력 -> 컬럼명: 내용\n",
    "insert_row = {\n",
    "    'data_code': 'financial_현금흐름',\n",
    "    'type': 'financial',\n",
    "    'title': '현금흐름',\n",
    "    'markdown_text': '현금흐름은 테스트로 넣은 임시 정보입니다.'\n",
    "}\n",
    "\n",
    "response = supabase.table('education_data').insert(insert_row).execute()\n",
    "\n",
    "validation(response)"
   ]
  },
  {
   "cell_type": "markdown",
   "id": "922285f0",
   "metadata": {},
   "source": [
    "# **행 삭제**"
   ]
  },
  {
   "cell_type": "code",
   "execution_count": 9,
   "id": "96d9ca47",
   "metadata": {},
   "outputs": [
    {
     "name": "stdout",
     "output_type": "stream",
     "text": [
      "데이터베이스 적용 완료\n"
     ]
    }
   ],
   "source": [
    "# 특정 행 삭제\n",
    "response = supabase.table('education_data').delete().eq('data_code', 'financial_현금흐름').execute()\n",
    "\n",
    "validation(response)\n",
    "\n",
    "# 여러 행 삭제\n",
    "# delete_primary_keys = ['financial_현금흐름', 'financial_임시데이터']\n",
    "\n",
    "# supabase.table('education_data').delete().eq('data_code', delete_primary_keys).execute()"
   ]
  },
  {
   "cell_type": "markdown",
   "id": "66ce9748",
   "metadata": {},
   "source": [
    "# **행 안의 데이터 수정**\n",
    "- table(): 수정할 테이블\n",
    "- update(): 업데이트할 내용 -> {컬럼명: 내용}\n",
    "- eq() : update가 적용될 대상 -> Key, Value"
   ]
  },
  {
   "cell_type": "code",
   "execution_count": 10,
   "id": "17d0fb39",
   "metadata": {},
   "outputs": [
    {
     "name": "stdout",
     "output_type": "stream",
     "text": [
      "데이터베이스 적용 완료\n"
     ]
    }
   ],
   "source": [
    "# 데이터 수정 (테스트)\n",
    "update_value = {\n",
    "    'title': 'Test update'  # title 컬럼을 test update로 변환\n",
    "}\n",
    "\n",
    "response = supabase.table('education_data').update(update_value).eq('data_code', 'financial_재무상태표').execute()\n",
    "\n",
    "validation(response)"
   ]
  },
  {
   "cell_type": "code",
   "execution_count": 11,
   "id": "63a00d22",
   "metadata": {},
   "outputs": [
    {
     "name": "stdout",
     "output_type": "stream",
     "text": [
      "데이터베이스 적용 완료\n"
     ]
    }
   ],
   "source": [
    "# 데이터 원복\n",
    "update_value = {\n",
    "    'title': '재무상태표'\n",
    "}\n",
    "\n",
    "response = supabase.table('education_data').update(update_value).eq('data_code', 'financial_재무상태표').execute()\n",
    "\n",
    "validation(response)"
   ]
  },
  {
   "cell_type": "code",
   "execution_count": 5,
   "id": "661e9dd5",
   "metadata": {},
   "outputs": [
    {
     "data": {
      "text/html": [
       "<div>\n",
       "<style scoped>\n",
       "    .dataframe tbody tr th:only-of-type {\n",
       "        vertical-align: middle;\n",
       "    }\n",
       "\n",
       "    .dataframe tbody tr th {\n",
       "        vertical-align: top;\n",
       "    }\n",
       "\n",
       "    .dataframe thead th {\n",
       "        text-align: right;\n",
       "    }\n",
       "</style>\n",
       "<table border=\"1\" class=\"dataframe\">\n",
       "  <thead>\n",
       "    <tr style=\"text-align: right;\">\n",
       "      <th></th>\n",
       "      <th>id</th>\n",
       "      <th>pw</th>\n",
       "    </tr>\n",
       "  </thead>\n",
       "  <tbody>\n",
       "    <tr>\n",
       "      <th>0</th>\n",
       "      <td>gildong_hong</td>\n",
       "      <td>$2b$12$IRFempd4zfVRSWUF80bgH.rx0VHehhTG69rCJM8...</td>\n",
       "    </tr>\n",
       "  </tbody>\n",
       "</table>\n",
       "</div>"
      ],
      "text/plain": [
       "             id                                                 pw\n",
       "0  gildong_hong  $2b$12$IRFempd4zfVRSWUF80bgH.rx0VHehhTG69rCJM8..."
      ]
     },
     "execution_count": 5,
     "metadata": {},
     "output_type": "execute_result"
    }
   ],
   "source": [
    "user_info = supabase.from_('user_info').select('id', 'pw').execute().data\n",
    "\n",
    "df = pd.DataFrame(user_info)\n",
    "\n",
    "df.head()"
   ]
  }
 ],
 "metadata": {
  "kernelspec": {
   "display_name": "kdt",
   "language": "python",
   "name": "python3"
  },
  "language_info": {
   "codemirror_mode": {
    "name": "ipython",
    "version": 3
   },
   "file_extension": ".py",
   "mimetype": "text/x-python",
   "name": "python",
   "nbconvert_exporter": "python",
   "pygments_lexer": "ipython3",
   "version": "3.11.13"
  }
 },
 "nbformat": 4,
 "nbformat_minor": 5
}
