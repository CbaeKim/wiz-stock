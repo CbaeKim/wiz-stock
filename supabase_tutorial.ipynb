{
 "cells": [
  {
   "cell_type": "markdown",
   "id": "adf7f9f5",
   "metadata": {},
   "source": [
    "# **라이브러리 정의**"
   ]
  },
  {
   "cell_type": "markdown",
   "id": "4bfd236d",
   "metadata": {},
   "source": [
    "# **라이브러리 정의**"
   ]
  },
  {
   "cell_type": "code",
   "execution_count": 1,
   "id": "10b228a3",
   "metadata": {},
   "outputs": [],
   "source": [
    "import os\n",
    "import pandas as pd\n",
    "from supabase import create_client, Client"
   ]
  },
  {
   "cell_type": "markdown",
   "id": "1031b50c",
   "metadata": {},
   "source": [
    "# **사용자 정보 초기화**"
   ]
  },
  {
   "cell_type": "code",
   "execution_count": 2,
   "id": "fe4c5348",
   "metadata": {},
   "outputs": [
    {
     "name": "stdout",
     "output_type": "stream",
     "text": [
      "Supabase 클라이언트 연결 완료.\n"
     ]
    }
   ],
   "source": [
    "# 엔드포인트 URL 및 API 키 설정\n",
    "SUPABASE_URL = 'https://yhayrbotkkuuvoxzhqct.supabase.co'\n",
    "SUPABASE_KEY = 'sb_secret_5rUltxbkuiB3wFcTyMs1qw_cJHFo3kf'\n",
    "\n",
    "# 클라이언트 연결\n",
    "try:\n",
    "    supabase: Client = create_client(SUPABASE_URL, SUPABASE_KEY)\n",
    "    print(\"Supabase 클라이언트 연결 완료.\")\n",
    "except Exception as e:\n",
    "    print(f\"Supabase 클라이언트 연결 실패: {e}\")\n",
    "\n",
    "def validation(response):\n",
    "    if response.data:\n",
    "        print(\"데이터베이스 적용 완료\")\n",
    "    else:\n",
    "        print(\"코드를 재확인해주세요.\")"
   ]
  },
  {
   "cell_type": "markdown",
   "id": "ee5bf298",
   "metadata": {},
   "source": [
    "# **기본 문법**\n",
    ": 모든 쿼리 로직 정의 이후 최종적으로 결과물을 얻으려면 아래 메서드를 이어붙여야함\n",
    "- .execute().data"
   ]
  },
  {
   "cell_type": "markdown",
   "id": "6c5d7833",
   "metadata": {},
   "source": [
    "## **테이블 및 컬럼 선택**"
   ]
  },
  {
   "cell_type": "code",
   "execution_count": null,
   "id": "7b8a8506",
   "metadata": {},
   "outputs": [],
   "source": [
    "# Query : select * from quiz\n",
    "\n",
    "# 1. 테이블 선택 (from)\n",
    "select_table = supabase.from_('quiz')\n",
    "\n",
    "# 2. 컬럼 선택 (select)\n",
    "select_table_column = select_table.select('*')"
   ]
  },
  {
   "cell_type": "markdown",
   "id": "d48cde1f",
   "metadata": {},
   "source": [
    "## **특정 값 필터 : 단수**"
   ]
  },
  {
   "cell_type": "code",
   "execution_count": null,
   "id": "06a1c96d",
   "metadata": {},
   "outputs": [],
   "source": [
    "# 3-1. 특정 값 필터 (단수)\n",
    "third = select_table_column.eq('category', 'Basic')\n",
    "\n",
    "df = pd.DataFrame(third.execute().data)\n",
    "df.head(2)"
   ]
  },
  {
   "cell_type": "markdown",
   "id": "6bcc9560",
   "metadata": {},
   "source": [
    "## **특정 값 필터 : 복수 (AND)**"
   ]
  },
  {
   "cell_type": "code",
   "execution_count": null,
   "id": "3b651223",
   "metadata": {},
   "outputs": [],
   "source": [
    "# 3-2. 특정 값 필터 (복수 : AND)\n",
    "third_and = select_table_column.eq('category', 'Basic').eq('sub_category', '배당금')\n",
    "\n",
    "df = pd.DataFrame(third_and.execute().data)\n",
    "df.head(2)"
   ]
  },
  {
   "cell_type": "markdown",
   "id": "51a01cf2",
   "metadata": {},
   "source": [
    "## **특정 값 필터 : 복수 (OR)**\n",
    "- 'category.eq.Basic' : category 컬럼의 값이 'Basic'\n",
    "- 'answer.eq.O' : answer 컬럼의 값이 'O'\n",
    "\n",
    "- 비교 연산자 : eq(=), neq(!=), gt(>), gte(>=), lt(<), lte(<=)"
   ]
  },
  {
   "cell_type": "code",
   "execution_count": null,
   "id": "a5908512",
   "metadata": {},
   "outputs": [],
   "source": [
    "# 3-4. 특정 값 필터 (복수 : OR)\n",
    "\n",
    "# 조건 정의\n",
    "condition = 'category.eq.Basic, answer.eq.O'\n",
    "\n",
    "# .or_()\n",
    "third_or = select_table_column.or_(condition)\n",
    "\n",
    "df = pd.DataFrame(third_or.execute().data)\n",
    "\n",
    "df.head(2)"
   ]
  },
  {
   "cell_type": "markdown",
   "id": "15cfc679",
   "metadata": {},
   "source": [
    "## **정렬 : 오름차순 / 내림차순**\n",
    ": 랭킹 or 게시판 시스템에 사용하기 유용"
   ]
  },
  {
   "cell_type": "code",
   "execution_count": null,
   "id": "f73f388f",
   "metadata": {},
   "outputs": [],
   "source": [
    "response = supabase.from_('quiz').select('*').order('sub_category', desc = True).limit(2).execute().data\n",
    "\n",
    "df = pd.DataFrame(response)\n",
    "df.head(2)"
   ]
  },
  {
   "cell_type": "markdown",
   "id": "18082bf0",
   "metadata": {},
   "source": [
    "# **행 추가**"
   ]
  },
  {
   "cell_type": "code",
   "execution_count": null,
   "id": "ace37279",
   "metadata": {},
   "outputs": [],
   "source": [
    "# 행 정보 입력 -> 컬럼명: 내용\n",
    "insert_row = {\n",
    "    'data_code': 'financial_현금흐름',\n",
    "    'type': 'financial',\n",
    "    'title': '현금흐름',\n",
    "    'markdown_text': '현금흐름은 테스트로 넣은 임시 정보입니다.'\n",
    "}\n",
    "\n",
    "response = supabase.table('education_data').insert(insert_row).execute()\n",
    "\n",
    "validation(response)"
   ]
  },
  {
   "cell_type": "markdown",
   "id": "922285f0",
   "metadata": {},
   "source": [
    "# **행 삭제**"
   ]
  },
  {
   "cell_type": "code",
   "execution_count": null,
   "id": "96d9ca47",
   "metadata": {},
   "outputs": [],
   "source": [
    "# 특정 행 삭제\n",
    "response = supabase.table('education_data').delete().eq('data_code', 'financial_현금흐름').execute()\n",
    "\n",
    "validation(response)\n",
    "\n",
    "# 여러 행 삭제\n",
    "# delete_primary_keys = ['financial_현금흐름', 'financial_임시데이터']\n",
    "\n",
    "# supabase.table('education_data').delete().eq('data_code', delete_primary_keys).execute()"
   ]
  },
  {
   "cell_type": "markdown",
   "id": "66ce9748",
   "metadata": {},
   "source": [
    "# **행 안의 데이터 수정**\n",
    "- table(): 수정할 테이블\n",
    "- update(): 업데이트할 내용 -> {컬럼명: 내용}\n",
    "- eq() : update가 적용될 대상 -> Key, Value"
   ]
  },
  {
   "cell_type": "code",
   "execution_count": null,
   "id": "17d0fb39",
   "metadata": {},
   "outputs": [],
   "source": [
    "# 데이터 수정 (테스트)\n",
    "update_value = {\n",
    "    'title': 'Test update'  # title 컬럼을 test update로 변환\n",
    "}\n",
    "\n",
    "response = supabase.table('education_data').update(update_value).eq('data_code', 'financial_재무상태표').execute()\n",
    "\n",
    "validation(response)"
   ]
  },
  {
   "cell_type": "code",
   "execution_count": null,
   "id": "63a00d22",
   "metadata": {},
   "outputs": [],
   "source": [
    "# 데이터 원복\n",
    "update_value = {\n",
    "    'title': '재무상태표'\n",
    "}\n",
    "\n",
    "response = supabase.table('education_data').update(update_value).eq('data_code', 'financial_재무상태표').execute()\n",
    "\n",
    "validation(response)"
   ]
  },
  {
   "cell_type": "code",
   "execution_count": null,
   "id": "661e9dd5",
   "metadata": {},
   "outputs": [],
   "source": [
    "user_info = supabase.from_('user_info').select('id', 'pw').execute().data\n",
    "\n",
    "df = pd.DataFrame(user_info)\n",
    "\n",
    "df.head()"
   ]
  }
 ],
 "metadata": {
  "kernelspec": {
   "display_name": "kdt",
   "language": "python",
   "name": "python3"
  },
  "language_info": {
   "codemirror_mode": {
    "name": "ipython",
    "version": 3
   },
   "file_extension": ".py",
   "mimetype": "text/x-python",
   "name": "python",
   "nbconvert_exporter": "python",
   "pygments_lexer": "ipython3",
   "version": "3.11.13"
  }
 },
 "nbformat": 4,
 "nbformat_minor": 5
}
