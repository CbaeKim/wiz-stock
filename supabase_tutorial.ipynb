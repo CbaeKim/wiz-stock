{
 "cells": [
  {
   "cell_type": "markdown",
   "id": "adf7f9f5",
   "metadata": {},
   "source": [
    "# **라이브러리 정의**"
   ]
  },
  {
   "cell_type": "markdown",
   "id": "4bfd236d",
   "metadata": {},
   "source": [
    "# **라이브러리 정의**"
   ]
  },
  {
   "cell_type": "code",
   "execution_count": 1,
   "id": "10b228a3",
   "metadata": {},
   "outputs": [],
   "source": [
    "import os\n",
    "import pandas as pd\n",
    "from supabase import create_client, Client"
   ]
  },
  {
   "cell_type": "markdown",
   "id": "1031b50c",
   "metadata": {},
   "source": [
    "# **사용자 정보 초기화**"
   ]
  },
  {
   "cell_type": "code",
   "execution_count": 2,
   "id": "fe4c5348",
   "metadata": {},
   "outputs": [
    {
     "name": "stdout",
     "output_type": "stream",
     "text": [
      "Supabase 클라이언트 연결 완료.\n"
     ]
    }
   ],
   "source": [
    "# 엔드포인트 URL 및 API 키 설정\n",
    "SUPABASE_URL = 'https://yhayrbotkkuuvoxzhqct.supabase.co'\n",
    "SUPABASE_KEY = 'sb_secret_5rUltxbkuiB3wFcTyMs1qw_cJHFo3kf'\n",
    "\n",
    "# 클라이언트 연결\n",
    "try:\n",
    "    supabase: Client = create_client(SUPABASE_URL, SUPABASE_KEY)\n",
    "    print(\"Supabase 클라이언트 연결 완료.\")\n",
    "except Exception as e:\n",
    "    print(f\"Supabase 클라이언트 연결 실패: {e}\")\n",
    "\n",
    "def validation(response):\n",
    "    if response.data:\n",
    "        print(\"데이터베이스 적용 완료\")\n",
    "    else:\n",
    "        print(\"코드를 재확인해주세요.\")"
   ]
  },
  {
   "cell_type": "markdown",
   "id": "ee5bf298",
   "metadata": {},
   "source": [
    "# **기본 문법**\n",
    ": 모든 쿼리 로직 정의 이후 최종적으로 결과물을 얻으려면 아래 메서드를 이어붙여야함\n",
    "- .execute().data"
   ]
  },
  {
   "cell_type": "markdown",
   "id": "6c5d7833",
   "metadata": {},
   "source": [
    "## **테이블 및 컬럼 선택**"
   ]
  },
  {
   "cell_type": "code",
   "execution_count": null,
   "id": "7b8a8506",
   "metadata": {},
   "outputs": [],
   "source": [
    "# Query : select * from quiz\n",
    "\n",
    "# 1. 테이블 선택 (from)\n",
    "select_table = supabase.from_('quiz')\n",
    "\n",
    "# 2. 컬럼 선택 (select)\n",
    "select_table_column = select_table.select('*')"
   ]
  },
  {
   "cell_type": "markdown",
   "id": "d48cde1f",
   "metadata": {},
   "source": [
    "## **특정 값 필터 : 단수**"
   ]
  },
  {
   "cell_type": "code",
   "execution_count": null,
   "id": "06a1c96d",
   "metadata": {},
   "outputs": [],
   "source": [
    "# 3-1. 특정 값 필터 (단수)\n",
    "third = select_table_column.eq('category', 'Basic')\n",
    "\n",
    "df = pd.DataFrame(third.execute().data)\n",
    "df.head(2)"
   ]
  },
  {
   "cell_type": "markdown",
   "id": "6bcc9560",
   "metadata": {},
   "source": [
    "## **특정 값 필터 : 복수 (AND)**"
   ]
  },
  {
   "cell_type": "code",
   "execution_count": null,
   "id": "3b651223",
   "metadata": {},
   "outputs": [],
   "source": [
    "# 3-2. 특정 값 필터 (복수 : AND)\n",
    "third_and = select_table_column.eq('category', 'Basic').eq('sub_category', '배당금')\n",
    "\n",
    "df = pd.DataFrame(third_and.execute().data)\n",
    "df.head(2)"
   ]
  },
  {
   "cell_type": "markdown",
   "id": "51a01cf2",
   "metadata": {},
   "source": [
    "## **특정 값 필터 : 복수 (OR)**\n",
    "- 'category.eq.Basic' : category 컬럼의 값이 'Basic'\n",
    "- 'answer.eq.O' : answer 컬럼의 값이 'O'\n",
    "\n",
    "- 비교 연산자 : eq(=), neq(!=), gt(>), gte(>=), lt(<), lte(<=)"
   ]
  },
  {
   "cell_type": "code",
   "execution_count": null,
   "id": "a5908512",
   "metadata": {},
   "outputs": [],
   "source": [
    "# 3-4. 특정 값 필터 (복수 : OR)\n",
    "\n",
    "# 조건 정의\n",
    "condition = 'category.eq.Basic, answer.eq.O'\n",
    "\n",
    "# .or_()\n",
    "third_or = select_table_column.or_(condition)\n",
    "\n",
    "df = pd.DataFrame(third_or.execute().data)\n",
    "\n",
    "df.head(2)"
   ]
  },
  {
   "cell_type": "markdown",
   "id": "15cfc679",
   "metadata": {},
   "source": [
    "## **정렬 : 오름차순 / 내림차순**\n",
    ": 랭킹 or 게시판 시스템에 사용하기 유용"
   ]
  },
  {
   "cell_type": "code",
   "execution_count": null,
   "id": "f73f388f",
   "metadata": {},
   "outputs": [],
   "source": [
    "response = supabase.from_('quiz').select('*').order('sub_category', desc = True).limit(2).execute().data\n",
    "\n",
    "df = pd.DataFrame(response)\n",
    "df.head(2)"
   ]
  },
  {
   "cell_type": "markdown",
   "id": "18082bf0",
   "metadata": {},
   "source": [
    "# **행 추가**"
   ]
  },
  {
   "cell_type": "code",
   "execution_count": null,
   "id": "ace37279",
   "metadata": {},
   "outputs": [],
   "source": [
    "# 행 정보 입력 -> 컬럼명: 내용\n",
    "insert_row = {\n",
    "    'data_code': 'financial_현금흐름',\n",
    "    'type': 'financial',\n",
    "    'title': '현금흐름',\n",
    "    'markdown_text': '현금흐름은 테스트로 넣은 임시 정보입니다.'\n",
    "}\n",
    "\n",
    "response = supabase.table('education_data').insert(insert_row).execute()\n",
    "\n",
    "validation(response)"
   ]
  },
  {
   "cell_type": "markdown",
   "id": "922285f0",
   "metadata": {},
   "source": [
    "# **행 삭제**"
   ]
  },
  {
   "cell_type": "code",
   "execution_count": null,
   "id": "96d9ca47",
   "metadata": {},
   "outputs": [],
   "source": [
    "# 특정 행 삭제\n",
    "response = supabase.table('education_data').delete().eq('data_code', 'financial_현금흐름').execute()\n",
    "\n",
    "validation(response)\n",
    "\n",
    "# 여러 행 삭제\n",
    "# delete_primary_keys = ['financial_현금흐름', 'financial_임시데이터']\n",
    "\n",
    "# supabase.table('education_data').delete().eq('data_code', delete_primary_keys).execute()"
   ]
  },
  {
   "cell_type": "markdown",
   "id": "66ce9748",
   "metadata": {},
   "source": [
    "# **행 안의 데이터 수정**\n",
    "- table(): 수정할 테이블\n",
    "- update(): 업데이트할 내용 -> {컬럼명: 내용}\n",
    "- eq() : update가 적용될 대상 -> Key, Value"
   ]
  },
  {
   "cell_type": "code",
   "execution_count": null,
   "id": "17d0fb39",
   "metadata": {},
   "outputs": [],
   "source": [
    "# 데이터 수정 (테스트)\n",
    "update_value = {\n",
    "    'title': 'Test update'  # title 컬럼을 test update로 변환\n",
    "}\n",
    "\n",
    "response = supabase.table('education_data').update(update_value).eq('data_code', 'financial_재무상태표').execute()\n",
    "\n",
    "validation(response)"
   ]
  },
  {
   "cell_type": "code",
   "execution_count": null,
   "id": "63a00d22",
   "metadata": {},
   "outputs": [],
   "source": [
    "# 데이터 원복\n",
    "update_value = {\n",
    "    'title': '재무상태표'\n",
    "}\n",
    "\n",
    "response = supabase.table('education_data').update(update_value).eq('data_code', 'financial_재무상태표').execute()\n",
    "\n",
    "validation(response)"
   ]
  },
  {
   "cell_type": "code",
   "execution_count": null,
   "id": "661e9dd5",
   "metadata": {},
   "outputs": [],
   "source": [
    "user_info = supabase.from_('user_info').select('id', 'pw').execute().data\n",
    "\n",
    "df = pd.DataFrame(user_info)\n",
    "\n",
    "df.head()"
   ]
  },
  {
   "cell_type": "code",
   "execution_count": 6,
   "id": "d1eccc0e",
   "metadata": {},
   "outputs": [],
   "source": [
    "import yfinance as yf\n",
    "def get_data(ticker_symbol, period=\"1y\", first_execute = True, date = None):\n",
    "    try:\n",
    "        # yfinance 객체 생성\n",
    "        ticker = yf.Ticker(ticker_symbol)\n",
    "\n",
    "        if first_execute is True:\n",
    "            # 주가 데이터 가져오기\n",
    "            df = ticker.history(period=period)\n",
    "        else:\n",
    "            df = ticker.history(start = date)\n",
    "\n",
    "        if df.empty:\n",
    "            raise Exception(\"Data mining Error\")\n",
    "\n",
    "        return df.ffill().sort_index()\n",
    "\n",
    "    except Exception as e:\n",
    "        print(f\"Error: {e}\")\n",
    "        return None"
   ]
  },
  {
   "cell_type": "code",
   "execution_count": null,
   "id": "b61f2e8f",
   "metadata": {},
   "outputs": [
    {
     "name": "stderr",
     "output_type": "stream",
     "text": [
      "HTTP Error 404: \n",
      "$005930: possibly delisted; no timezone found\n"
     ]
    },
    {
     "name": "stdout",
     "output_type": "stream",
     "text": [
      "Error: Data mining Error\n",
      "[005930] append success\n"
     ]
    },
    {
     "name": "stderr",
     "output_type": "stream",
     "text": [
      "HTTP Error 404: \n",
      "$000660: possibly delisted; no timezone found\n"
     ]
    },
    {
     "name": "stdout",
     "output_type": "stream",
     "text": [
      "Error: Data mining Error\n",
      "[000660] append success\n"
     ]
    },
    {
     "name": "stderr",
     "output_type": "stream",
     "text": [
      "$373220: possibly delisted; no timezone found\n"
     ]
    },
    {
     "name": "stdout",
     "output_type": "stream",
     "text": [
      "Error: Data mining Error\n",
      "[373220] append success\n"
     ]
    },
    {
     "name": "stderr",
     "output_type": "stream",
     "text": [
      "$207940: possibly delisted; no timezone found\n"
     ]
    },
    {
     "name": "stdout",
     "output_type": "stream",
     "text": [
      "Error: Data mining Error\n",
      "[207940] append success\n"
     ]
    },
    {
     "name": "stderr",
     "output_type": "stream",
     "text": [
      "$012450: possibly delisted; no timezone found\n"
     ]
    },
    {
     "name": "stdout",
     "output_type": "stream",
     "text": [
      "Error: Data mining Error\n",
      "[012450] append success\n"
     ]
    },
    {
     "name": "stderr",
     "output_type": "stream",
     "text": [
      "$005935: possibly delisted; no timezone found\n"
     ]
    },
    {
     "name": "stdout",
     "output_type": "stream",
     "text": [
      "Error: Data mining Error\n",
      "[005935] append success\n"
     ]
    },
    {
     "name": "stderr",
     "output_type": "stream",
     "text": [
      "$005380: possibly delisted; no timezone found\n"
     ]
    },
    {
     "name": "stdout",
     "output_type": "stream",
     "text": [
      "Error: Data mining Error\n",
      "[005380] append success\n"
     ]
    },
    {
     "name": "stderr",
     "output_type": "stream",
     "text": [
      "$105560: possibly delisted; no timezone found\n"
     ]
    },
    {
     "name": "stdout",
     "output_type": "stream",
     "text": [
      "Error: Data mining Error\n",
      "[105560] append success\n"
     ]
    },
    {
     "name": "stderr",
     "output_type": "stream",
     "text": [
      "$034020: possibly delisted; no timezone found\n"
     ]
    },
    {
     "name": "stdout",
     "output_type": "stream",
     "text": [
      "Error: Data mining Error\n",
      "[034020] append success\n"
     ]
    },
    {
     "name": "stderr",
     "output_type": "stream",
     "text": [
      "$329180: possibly delisted; no timezone found\n"
     ]
    },
    {
     "name": "stdout",
     "output_type": "stream",
     "text": [
      "Error: Data mining Error\n",
      "[329180] append success\n"
     ]
    }
   ],
   "source": [
    "import datetime\n",
    "\n",
    "top_10_stocks = [\n",
    "    {'name': '삼성전자', 'code': '005930.KS'},\n",
    "    {'name': 'SK하이닉스', 'code': '000660.KS'},\n",
    "    {'name': 'LG에너지솔루션', 'code': '373220.KS'},\n",
    "    {'name': '삼성바이오로직스', 'code': '207940.KS'},\n",
    "    {'name': '한화에어로스페이스', 'code': '012450.KS'},\n",
    "    {'name': '삼성전자우', 'code': '005935.KS'},\n",
    "    {'name': '현대차', 'code': '005380.KS'},\n",
    "    {'name': 'KB금융', 'code': '105560.KS'},\n",
    "    {'name': '두산에너빌리티', 'code': '034020.KS'},\n",
    "    {'name': 'HD현대중공업', 'code': '329180.KS'},\n",
    "]\n",
    "\n",
    "# Read CSV File\n",
    "csv_path = './data/stock_data.csv'\n",
    "# ===== funciton start ===== #\n",
    " \n",
    "concat_list = []\n",
    "\n",
    "try:\n",
    "    # CSV >> pd.df\n",
    "    df = pd.read_csv(csv_path)\n",
    "\n",
    "    # Column 'Date' >> datetime64\n",
    "    df['stock_code'] = df['stock_code'].astype(str).str.zfill(6)\n",
    "    df['Date'] = pd.to_datetime(df['Date'], errors = 'coerce')\n",
    "\n",
    "    # Extract Stock Code\n",
    "    stock_codes = [stock['code'][:-3] for stock in top_10_stocks]\n",
    "\n",
    "    # Extract Stock code unique value \n",
    "    stocks = {stock: group for stock, group in df.groupby('stock_code')}\n",
    "\n",
    "    today = datetime.datetime.now()\n",
    "\n",
    "    for stock in stock_codes:\n",
    "        try:\n",
    "            piece_of_df = stocks[stock]\n",
    "\n",
    "            recent_date = piece_of_df['Date'].max()\n",
    "        \n",
    "        # New Stock\n",
    "        except:\n",
    "            new_stock_df = get_data(stock, period = 'max')\n",
    "            concat_list.append(concat_df)\n",
    "            print(f\"[{stock}] new data append success\")\n",
    "\n",
    "        # Stock Date is latest version\n",
    "        if recent_date >= today:\n",
    "            concat_list.append(recent_date)\n",
    "            print(f\"[{stock}] db is latest!\")\n",
    "\n",
    "        # Stock Date is old version\n",
    "        elif recent_date <= today:\n",
    "            start_date = (recent_date + datetime.timedelta(days = 1)).strftime('%Y-%m-%d')\n",
    "            new_rows = get_data(stock, first_execute=False, date = start_date)\n",
    "            concat_df = pd.concat([piece_of_df, new_rows], ignore_index = True)\n",
    "            concat_list.append(concat_df)\n",
    "            print(f'[{stock}] append success')\n",
    "\n",
    "    final_df = pd.concat(concat_list, ignore_index = True)\n",
    "\n",
    "except Exception as e:\n",
    "    print(f'CSV Process Error: {e}')\n",
    "\n",
    "\n"
   ]
  },
  {
   "cell_type": "code",
   "execution_count": 8,
   "id": "ed744b9e",
   "metadata": {},
   "outputs": [
    {
     "data": {
      "text/html": [
       "<div>\n",
       "<style scoped>\n",
       "    .dataframe tbody tr th:only-of-type {\n",
       "        vertical-align: middle;\n",
       "    }\n",
       "\n",
       "    .dataframe tbody tr th {\n",
       "        vertical-align: top;\n",
       "    }\n",
       "\n",
       "    .dataframe thead th {\n",
       "        text-align: right;\n",
       "    }\n",
       "</style>\n",
       "<table border=\"1\" class=\"dataframe\">\n",
       "  <thead>\n",
       "    <tr style=\"text-align: right;\">\n",
       "      <th></th>\n",
       "      <th>Date</th>\n",
       "      <th>Open</th>\n",
       "      <th>High</th>\n",
       "      <th>Low</th>\n",
       "      <th>Close</th>\n",
       "      <th>Volume</th>\n",
       "      <th>Dividends</th>\n",
       "      <th>Stock Splits</th>\n",
       "      <th>SMA_5</th>\n",
       "      <th>SMA_20</th>\n",
       "      <th>...</th>\n",
       "      <th>RSI</th>\n",
       "      <th>%K</th>\n",
       "      <th>%D</th>\n",
       "      <th>ADX</th>\n",
       "      <th>+DI</th>\n",
       "      <th>-DI</th>\n",
       "      <th>ATR</th>\n",
       "      <th>OBV</th>\n",
       "      <th>MACD_Hist</th>\n",
       "      <th>id</th>\n",
       "    </tr>\n",
       "  </thead>\n",
       "  <tbody>\n",
       "    <tr>\n",
       "      <th>0</th>\n",
       "      <td>2000-01-04</td>\n",
       "      <td>4245.21</td>\n",
       "      <td>4323.04</td>\n",
       "      <td>4004.65</td>\n",
       "      <td>4323.04</td>\n",
       "      <td>74195000</td>\n",
       "      <td>0.0</td>\n",
       "      <td>0.0</td>\n",
       "      <td>0.00</td>\n",
       "      <td>0.0</td>\n",
       "      <td>...</td>\n",
       "      <td>0.00</td>\n",
       "      <td>0.00</td>\n",
       "      <td>0.00</td>\n",
       "      <td>0.00</td>\n",
       "      <td>0.00</td>\n",
       "      <td>0.00</td>\n",
       "      <td>318.39</td>\n",
       "      <td>0</td>\n",
       "      <td>0.00</td>\n",
       "      <td>1</td>\n",
       "    </tr>\n",
       "    <tr>\n",
       "      <th>1</th>\n",
       "      <td>2000-01-05</td>\n",
       "      <td>4103.71</td>\n",
       "      <td>4287.66</td>\n",
       "      <td>3905.60</td>\n",
       "      <td>3948.05</td>\n",
       "      <td>74680000</td>\n",
       "      <td>0.0</td>\n",
       "      <td>0.0</td>\n",
       "      <td>0.00</td>\n",
       "      <td>0.0</td>\n",
       "      <td>...</td>\n",
       "      <td>0.00</td>\n",
       "      <td>0.00</td>\n",
       "      <td>0.00</td>\n",
       "      <td>100.00</td>\n",
       "      <td>0.00</td>\n",
       "      <td>3.98</td>\n",
       "      <td>331.60</td>\n",
       "      <td>-74680000</td>\n",
       "      <td>-6.73</td>\n",
       "      <td>2</td>\n",
       "    </tr>\n",
       "    <tr>\n",
       "      <th>2</th>\n",
       "      <td>2000-01-06</td>\n",
       "      <td>4068.33</td>\n",
       "      <td>4089.55</td>\n",
       "      <td>3948.05</td>\n",
       "      <td>3976.35</td>\n",
       "      <td>54390000</td>\n",
       "      <td>0.0</td>\n",
       "      <td>0.0</td>\n",
       "      <td>0.00</td>\n",
       "      <td>0.0</td>\n",
       "      <td>...</td>\n",
       "      <td>0.00</td>\n",
       "      <td>0.00</td>\n",
       "      <td>0.00</td>\n",
       "      <td>100.00</td>\n",
       "      <td>0.00</td>\n",
       "      <td>3.74</td>\n",
       "      <td>306.25</td>\n",
       "      <td>-20290000</td>\n",
       "      <td>-6.53</td>\n",
       "      <td>3</td>\n",
       "    </tr>\n",
       "    <tr>\n",
       "      <th>3</th>\n",
       "      <td>2000-01-07</td>\n",
       "      <td>3933.90</td>\n",
       "      <td>4011.73</td>\n",
       "      <td>3792.39</td>\n",
       "      <td>3919.75</td>\n",
       "      <td>40305000</td>\n",
       "      <td>0.0</td>\n",
       "      <td>0.0</td>\n",
       "      <td>0.00</td>\n",
       "      <td>0.0</td>\n",
       "      <td>...</td>\n",
       "      <td>0.00</td>\n",
       "      <td>0.00</td>\n",
       "      <td>0.00</td>\n",
       "      <td>100.00</td>\n",
       "      <td>0.00</td>\n",
       "      <td>10.41</td>\n",
       "      <td>294.66</td>\n",
       "      <td>-60595000</td>\n",
       "      <td>-7.18</td>\n",
       "      <td>4</td>\n",
       "    </tr>\n",
       "    <tr>\n",
       "      <th>4</th>\n",
       "      <td>2000-01-10</td>\n",
       "      <td>3962.20</td>\n",
       "      <td>4082.48</td>\n",
       "      <td>3948.05</td>\n",
       "      <td>4082.48</td>\n",
       "      <td>46880000</td>\n",
       "      <td>0.0</td>\n",
       "      <td>0.0</td>\n",
       "      <td>4049.93</td>\n",
       "      <td>0.0</td>\n",
       "      <td>...</td>\n",
       "      <td>0.00</td>\n",
       "      <td>0.00</td>\n",
       "      <td>0.00</td>\n",
       "      <td>93.02</td>\n",
       "      <td>3.40</td>\n",
       "      <td>9.59</td>\n",
       "      <td>277.07</td>\n",
       "      <td>-13715000</td>\n",
       "      <td>-1.43</td>\n",
       "      <td>5</td>\n",
       "    </tr>\n",
       "    <tr>\n",
       "      <th>...</th>\n",
       "      <td>...</td>\n",
       "      <td>...</td>\n",
       "      <td>...</td>\n",
       "      <td>...</td>\n",
       "      <td>...</td>\n",
       "      <td>...</td>\n",
       "      <td>...</td>\n",
       "      <td>...</td>\n",
       "      <td>...</td>\n",
       "      <td>...</td>\n",
       "      <td>...</td>\n",
       "      <td>...</td>\n",
       "      <td>...</td>\n",
       "      <td>...</td>\n",
       "      <td>...</td>\n",
       "      <td>...</td>\n",
       "      <td>...</td>\n",
       "      <td>...</td>\n",
       "      <td>...</td>\n",
       "      <td>...</td>\n",
       "      <td>...</td>\n",
       "    </tr>\n",
       "    <tr>\n",
       "      <th>46578</th>\n",
       "      <td>2025-08-04</td>\n",
       "      <td>466000.00</td>\n",
       "      <td>470000.00</td>\n",
       "      <td>451000.00</td>\n",
       "      <td>463500.00</td>\n",
       "      <td>230145</td>\n",
       "      <td>0.0</td>\n",
       "      <td>0.0</td>\n",
       "      <td>475000.00</td>\n",
       "      <td>426025.0</td>\n",
       "      <td>...</td>\n",
       "      <td>72.40</td>\n",
       "      <td>60.08</td>\n",
       "      <td>71.45</td>\n",
       "      <td>44.74</td>\n",
       "      <td>34.05</td>\n",
       "      <td>15.42</td>\n",
       "      <td>25496.54</td>\n",
       "      <td>8281803</td>\n",
       "      <td>6751.30</td>\n",
       "      <td>46570</td>\n",
       "    </tr>\n",
       "    <tr>\n",
       "      <th>46579</th>\n",
       "      <td>2025-08-05</td>\n",
       "      <td>467500.00</td>\n",
       "      <td>477500.00</td>\n",
       "      <td>464000.00</td>\n",
       "      <td>464000.00</td>\n",
       "      <td>208970</td>\n",
       "      <td>0.0</td>\n",
       "      <td>0.0</td>\n",
       "      <td>473100.00</td>\n",
       "      <td>429750.0</td>\n",
       "      <td>...</td>\n",
       "      <td>71.19</td>\n",
       "      <td>58.47</td>\n",
       "      <td>63.31</td>\n",
       "      <td>44.49</td>\n",
       "      <td>35.57</td>\n",
       "      <td>14.22</td>\n",
       "      <td>23963.67</td>\n",
       "      <td>8490773</td>\n",
       "      <td>5140.12</td>\n",
       "      <td>46571</td>\n",
       "    </tr>\n",
       "    <tr>\n",
       "      <th>46580</th>\n",
       "      <td>2025-08-06</td>\n",
       "      <td>459500.00</td>\n",
       "      <td>480500.00</td>\n",
       "      <td>451500.00</td>\n",
       "      <td>466500.00</td>\n",
       "      <td>247270</td>\n",
       "      <td>0.0</td>\n",
       "      <td>0.0</td>\n",
       "      <td>472200.00</td>\n",
       "      <td>433325.0</td>\n",
       "      <td>...</td>\n",
       "      <td>72.15</td>\n",
       "      <td>60.09</td>\n",
       "      <td>59.55</td>\n",
       "      <td>41.63</td>\n",
       "      <td>29.99</td>\n",
       "      <td>18.75</td>\n",
       "      <td>24635.18</td>\n",
       "      <td>8738043</td>\n",
       "      <td>3908.91</td>\n",
       "      <td>46572</td>\n",
       "    </tr>\n",
       "    <tr>\n",
       "      <th>46581</th>\n",
       "      <td>2025-08-07</td>\n",
       "      <td>474500.00</td>\n",
       "      <td>486750.00</td>\n",
       "      <td>471000.00</td>\n",
       "      <td>475000.00</td>\n",
       "      <td>259830</td>\n",
       "      <td>0.0</td>\n",
       "      <td>0.0</td>\n",
       "      <td>469100.00</td>\n",
       "      <td>437050.0</td>\n",
       "      <td>...</td>\n",
       "      <td>72.79</td>\n",
       "      <td>65.30</td>\n",
       "      <td>61.29</td>\n",
       "      <td>39.92</td>\n",
       "      <td>30.09</td>\n",
       "      <td>16.65</td>\n",
       "      <td>24050.49</td>\n",
       "      <td>8997873</td>\n",
       "      <td>3354.38</td>\n",
       "      <td>46573</td>\n",
       "    </tr>\n",
       "    <tr>\n",
       "      <th>46582</th>\n",
       "      <td>2025-08-08</td>\n",
       "      <td>483000.00</td>\n",
       "      <td>483000.00</td>\n",
       "      <td>463500.00</td>\n",
       "      <td>466500.00</td>\n",
       "      <td>168239</td>\n",
       "      <td>0.0</td>\n",
       "      <td>0.0</td>\n",
       "      <td>0.00</td>\n",
       "      <td>0.0</td>\n",
       "      <td>...</td>\n",
       "      <td>0.00</td>\n",
       "      <td>0.00</td>\n",
       "      <td>0.00</td>\n",
       "      <td>0.00</td>\n",
       "      <td>0.00</td>\n",
       "      <td>0.00</td>\n",
       "      <td>19500.00</td>\n",
       "      <td>0</td>\n",
       "      <td>0.00</td>\n",
       "      <td>46593</td>\n",
       "    </tr>\n",
       "  </tbody>\n",
       "</table>\n",
       "<p>46583 rows × 28 columns</p>\n",
       "</div>"
      ],
      "text/plain": [
       "            Date       Open       High        Low      Close    Volume  \\\n",
       "0     2000-01-04    4245.21    4323.04    4004.65    4323.04  74195000   \n",
       "1     2000-01-05    4103.71    4287.66    3905.60    3948.05  74680000   \n",
       "2     2000-01-06    4068.33    4089.55    3948.05    3976.35  54390000   \n",
       "3     2000-01-07    3933.90    4011.73    3792.39    3919.75  40305000   \n",
       "4     2000-01-10    3962.20    4082.48    3948.05    4082.48  46880000   \n",
       "...          ...        ...        ...        ...        ...       ...   \n",
       "46578 2025-08-04  466000.00  470000.00  451000.00  463500.00    230145   \n",
       "46579 2025-08-05  467500.00  477500.00  464000.00  464000.00    208970   \n",
       "46580 2025-08-06  459500.00  480500.00  451500.00  466500.00    247270   \n",
       "46581 2025-08-07  474500.00  486750.00  471000.00  475000.00    259830   \n",
       "46582 2025-08-08  483000.00  483000.00  463500.00  466500.00    168239   \n",
       "\n",
       "       Dividends  Stock Splits      SMA_5    SMA_20  ...    RSI     %K     %D  \\\n",
       "0            0.0           0.0       0.00       0.0  ...   0.00   0.00   0.00   \n",
       "1            0.0           0.0       0.00       0.0  ...   0.00   0.00   0.00   \n",
       "2            0.0           0.0       0.00       0.0  ...   0.00   0.00   0.00   \n",
       "3            0.0           0.0       0.00       0.0  ...   0.00   0.00   0.00   \n",
       "4            0.0           0.0    4049.93       0.0  ...   0.00   0.00   0.00   \n",
       "...          ...           ...        ...       ...  ...    ...    ...    ...   \n",
       "46578        0.0           0.0  475000.00  426025.0  ...  72.40  60.08  71.45   \n",
       "46579        0.0           0.0  473100.00  429750.0  ...  71.19  58.47  63.31   \n",
       "46580        0.0           0.0  472200.00  433325.0  ...  72.15  60.09  59.55   \n",
       "46581        0.0           0.0  469100.00  437050.0  ...  72.79  65.30  61.29   \n",
       "46582        0.0           0.0       0.00       0.0  ...   0.00   0.00   0.00   \n",
       "\n",
       "          ADX    +DI    -DI       ATR       OBV  MACD_Hist     id  \n",
       "0        0.00   0.00   0.00    318.39         0       0.00      1  \n",
       "1      100.00   0.00   3.98    331.60 -74680000      -6.73      2  \n",
       "2      100.00   0.00   3.74    306.25 -20290000      -6.53      3  \n",
       "3      100.00   0.00  10.41    294.66 -60595000      -7.18      4  \n",
       "4       93.02   3.40   9.59    277.07 -13715000      -1.43      5  \n",
       "...       ...    ...    ...       ...       ...        ...    ...  \n",
       "46578   44.74  34.05  15.42  25496.54   8281803    6751.30  46570  \n",
       "46579   44.49  35.57  14.22  23963.67   8490773    5140.12  46571  \n",
       "46580   41.63  29.99  18.75  24635.18   8738043    3908.91  46572  \n",
       "46581   39.92  30.09  16.65  24050.49   8997873    3354.38  46573  \n",
       "46582    0.00   0.00   0.00  19500.00         0       0.00  46593  \n",
       "\n",
       "[46583 rows x 28 columns]"
      ]
     },
     "execution_count": 8,
     "metadata": {},
     "output_type": "execute_result"
    }
   ],
   "source": [
    "final_df"
   ]
  },
  {
   "cell_type": "code",
   "execution_count": 9,
   "id": "8d4dc55b",
   "metadata": {},
   "outputs": [
    {
     "data": {
      "text/html": [
       "<div>\n",
       "<style scoped>\n",
       "    .dataframe tbody tr th:only-of-type {\n",
       "        vertical-align: middle;\n",
       "    }\n",
       "\n",
       "    .dataframe tbody tr th {\n",
       "        vertical-align: top;\n",
       "    }\n",
       "\n",
       "    .dataframe thead th {\n",
       "        text-align: right;\n",
       "    }\n",
       "</style>\n",
       "<table border=\"1\" class=\"dataframe\">\n",
       "  <thead>\n",
       "    <tr style=\"text-align: right;\">\n",
       "      <th></th>\n",
       "      <th>Date</th>\n",
       "      <th>Open</th>\n",
       "      <th>High</th>\n",
       "      <th>Low</th>\n",
       "      <th>Close</th>\n",
       "      <th>Volume</th>\n",
       "      <th>Dividends</th>\n",
       "      <th>Stock Splits</th>\n",
       "      <th>SMA_5</th>\n",
       "      <th>SMA_20</th>\n",
       "      <th>...</th>\n",
       "      <th>RSI</th>\n",
       "      <th>%K</th>\n",
       "      <th>%D</th>\n",
       "      <th>ADX</th>\n",
       "      <th>+DI</th>\n",
       "      <th>-DI</th>\n",
       "      <th>ATR</th>\n",
       "      <th>OBV</th>\n",
       "      <th>MACD_Hist</th>\n",
       "      <th>id</th>\n",
       "    </tr>\n",
       "  </thead>\n",
       "  <tbody>\n",
       "  </tbody>\n",
       "</table>\n",
       "<p>0 rows × 28 columns</p>\n",
       "</div>"
      ],
      "text/plain": [
       "Empty DataFrame\n",
       "Columns: [Date, Open, High, Low, Close, Volume, Dividends, Stock Splits, SMA_5, SMA_20, stock_code, EMA_12, EMA_26, MACD, MACD_Signal, Bollinger_Mid, Bollinger_Upper, Bollinger_Lower, RSI, %K, %D, ADX, +DI, -DI, ATR, OBV, MACD_Hist, id]\n",
       "Index: []\n",
       "\n",
       "[0 rows x 28 columns]"
      ]
     },
     "execution_count": 9,
     "metadata": {},
     "output_type": "execute_result"
    }
   ],
   "source": [
    "df.loc[(df['stock_code'] == '005930.KS'), :]"
   ]
  },
  {
   "cell_type": "code",
   "execution_count": null,
   "id": "ece859cd",
   "metadata": {},
   "outputs": [],
   "source": [
    "\n",
    "# Extract recent_date, start_date\n",
    "today = datetime.datetime.now().strftime(('%Y-%m-%d'))\n",
    "recent_date = df['Date'].max()\n",
    "start_date = (recent_date + datetime.timedelta(days = 1)).strftime(('%Y-%m-%d'))\n",
    "recent_date = recent_date\n",
    "\n",
    "if today <= recent_date:\n",
    "    print(f\"Data is latest: [{recent_date}]\")\n",
    "else:\n",
    "    recent_date = recent_date.strftime(('%Y-%m-%d'))\n",
    "\n",
    "# Define empty df\n",
    "new_df = pd.DataFrame()\n",
    "\n",
    "# Stock Code 추출\n",
    "stock_codes = [stock['code'][:-3] for stock in top_10_stocks]\n",
    "\n",
    "for stock in stock_codes:\n",
    "    new_data = get_data(stock, first_execute = False, date = start_date)\n",
    "\n",
    "\n",
    "print(recent_date, start_date)"
   ]
  },
  {
   "cell_type": "code",
   "execution_count": null,
   "id": "ebfc15d9",
   "metadata": {},
   "outputs": [],
   "source": [
    "top_10_stocks = [\n",
    "    {'name': '삼성전자', 'code': '005930.KS'},\n",
    "    {'name': 'SK하이닉스', 'code': '000660.KS'},\n",
    "    {'name': 'LG에너지솔루션', 'code': '373220.KS'},\n",
    "    {'name': '삼성바이오로직스', 'code': '207940.KS'},\n",
    "    {'name': '한화에어로스페이스', 'code': '012450.KS'},\n",
    "    {'name': '삼성전자우', 'code': '005935.KS'},\n",
    "    {'name': '현대차', 'code': '005380.KS'},\n",
    "    {'name': 'KB금융', 'code': '105560.KS'},\n",
    "    {'name': '두산에너빌리티', 'code': '034020.KS'},\n",
    "    {'name': 'HD현대중공업', 'code': '329180.KS'},\n",
    "]\n",
    "\n",
    "stock_codes = [stock['code'][:-3] for stock in top_10_stocks]\n",
    "stock_codes"
   ]
  },
  {
   "cell_type": "code",
   "execution_count": 4,
   "id": "5f36eb08",
   "metadata": {},
   "outputs": [],
   "source": [
    "import FinanceDataReader as fdr\n",
    "import pandas as pd\n",
    "\n",
    "krx_df = fdr.StockListing('KRX').sort_values(by = 'Marcap', ascending = False)"
   ]
  },
  {
   "cell_type": "code",
   "execution_count": 7,
   "id": "8c23b1ce",
   "metadata": {},
   "outputs": [],
   "source": [
    "\n",
    "top_10 = krx_df[:10][['Code', 'Name']]"
   ]
  },
  {
   "cell_type": "code",
   "execution_count": 12,
   "id": "a114e090",
   "metadata": {},
   "outputs": [],
   "source": [
    "top_10_stocks = top_10.to_dict('records')"
   ]
  },
  {
   "cell_type": "code",
   "execution_count": 13,
   "id": "788fcea7",
   "metadata": {},
   "outputs": [
    {
     "data": {
      "text/plain": [
       "[{'Code': '005930', 'Name': '삼성전자'},\n",
       " {'Code': '000660', 'Name': 'SK하이닉스'},\n",
       " {'Code': '373220', 'Name': 'LG에너지솔루션'},\n",
       " {'Code': '207940', 'Name': '삼성바이오로직스'},\n",
       " {'Code': '005935', 'Name': '삼성전자우'},\n",
       " {'Code': '012450', 'Name': '한화에어로스페이스'},\n",
       " {'Code': '005380', 'Name': '현대차'},\n",
       " {'Code': '105560', 'Name': 'KB금융'},\n",
       " {'Code': '034020', 'Name': '두산에너빌리티'},\n",
       " {'Code': '329180', 'Name': 'HD현대중공업'}]"
      ]
     },
     "execution_count": 13,
     "metadata": {},
     "output_type": "execute_result"
    }
   ],
   "source": [
    "top_10_stocks"
   ]
  },
  {
   "cell_type": "code",
   "execution_count": 14,
   "id": "94cb6ede",
   "metadata": {},
   "outputs": [
    {
     "name": "stdout",
     "output_type": "stream",
     "text": [
      "KRX Data Mining Success\n",
      "KRX Top 10 Data Preprocess Success\n",
      "[{'Code': '005930', 'Name': '삼성전자'}, {'Code': '000660', 'Name': 'SK하이닉스'}, {'Code': '373220', 'Name': 'LG에너지솔루션'}, {'Code': '207940', 'Name': '삼성바이오로직스'}, {'Code': '005935', 'Name': '삼성전자우'}, {'Code': '012450', 'Name': '한화에어로스페이스'}, {'Code': '005380', 'Name': '현대차'}, {'Code': '105560', 'Name': 'KB금융'}, {'Code': '034020', 'Name': '두산에너빌리티'}, {'Code': '329180', 'Name': 'HD현대중공업'}]\n"
     ]
    }
   ],
   "source": [
    "krx_df = fdr.StockListing('KRX').sort_values(by = 'Marcap', ascending = False)\n",
    "print(\"KRX Data Mining Success\")\n",
    "\n",
    "top_10 = krx_df[:10][['Code', 'Name']]\n",
    "top_10_stocks = top_10.to_dict('records')\n",
    "print(\"KRX Top 10 Data Preprocess Success\")\n",
    "print(top_10_stocks)"
   ]
  },
  {
   "cell_type": "code",
   "execution_count": null,
   "id": "b242cf87",
   "metadata": {},
   "outputs": [],
   "source": []
  }
 ],
 "metadata": {
  "kernelspec": {
   "display_name": "kdt",
   "language": "python",
   "name": "python3"
  },
  "language_info": {
   "codemirror_mode": {
    "name": "ipython",
    "version": 3
   },
   "file_extension": ".py",
   "mimetype": "text/x-python",
   "name": "python",
   "nbconvert_exporter": "python",
   "pygments_lexer": "ipython3",
   "version": "3.11.13"
  }
 },
 "nbformat": 4,
 "nbformat_minor": 5
}
